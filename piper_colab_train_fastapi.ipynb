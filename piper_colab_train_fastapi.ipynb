{
  "nbformat": 4,
  "nbformat_minor": 0,
  "metadata": {
    "colab": {
      "provenance": [],
      "authorship_tag": "ABX9TyPtaNj6qSKt6tM4vuEgHWSz",
      "include_colab_link": true
    },
    "kernelspec": {
      "name": "python3",
      "display_name": "Python 3"
    },
    "language_info": {
      "name": "python"
    }
  },
  "cells": [
    {
      "cell_type": "markdown",
      "metadata": {
        "id": "view-in-github",
        "colab_type": "text"
      },
      "source": [
        "<a href=\"https://colab.research.google.com/github/devloic/AutoGPTQ/blob/main/piper_colab_train_fastapi.ipynb\" target=\"_parent\"><img src=\"https://colab.research.google.com/assets/colab-badge.svg\" alt=\"Open In Colab\"/></a>"
      ]
    },
    {
      "cell_type": "code",
      "execution_count": 1,
      "metadata": {
        "colab": {
          "base_uri": "https://localhost:8080/"
        },
        "id": "-4AzPnme97-v",
        "outputId": "5cc3b74c-4e6a-4b3d-b8a1-791cc3bd027a"
      },
      "outputs": [
        {
          "output_type": "stream",
          "name": "stdout",
          "text": [
            "\u001b[2K   \u001b[90m━━━━━━━━━━━━━━━━━━━━━━━━━━━━━━━━━━━━━━━━\u001b[0m \u001b[32m10.0/10.0 MB\u001b[0m \u001b[31m47.2 MB/s\u001b[0m eta \u001b[36m0:00:00\u001b[0m\n",
            "\u001b[2K   \u001b[90m━━━━━━━━━━━━━━━━━━━━━━━━━━━━━━━━━━━━━━━━\u001b[0m \u001b[32m6.9/6.9 MB\u001b[0m \u001b[31m72.9 MB/s\u001b[0m eta \u001b[36m0:00:00\u001b[0m\n",
            "\u001b[?25h"
          ]
        }
      ],
      "source": [
        "!pip install -q streamlit\n",
        "!npm install localtunnel\n"
      ]
    },
    {
      "cell_type": "code",
      "source": [
        "%%writefile app_streamlit.py\n",
        "\n",
        "import streamlit as st\n",
        "\n",
        "st.write('Hello, *World!* :sunglasses:')"
      ],
      "metadata": {
        "colab": {
          "base_uri": "https://localhost:8080/"
        },
        "id": "4CJhZBCp-v1j",
        "outputId": "22a7dd8d-7fb5-4b8d-b928-33e6c8c2e46c"
      },
      "execution_count": 47,
      "outputs": [
        {
          "output_type": "stream",
          "name": "stdout",
          "text": [
            "Writing app_streamlit.py\n"
          ]
        }
      ]
    },
    {
      "cell_type": "code",
      "source": [
        "!mkdir -p ~/.streamlit && echo -e \"[browser]\\ngatherUsageStats = false\" > ~/.streamlit/config.toml && rm -f /content/logs.txt; (streamlit run app_streamlit.py & npx localtunnel --port 8501) &> /content/logs.txt & while [ ! -s \"/content/logs.txt\" ]; do sleep 1; done; tail -f /content/logs.txt & grep -m1 -oP '(?<=External URL: http:\\/\\/)\\d+\\.\\d+\\.\\d+\\.\\d+' /content/logs.txt | xargs -I{} echo password: {}\n"
      ],
      "metadata": {
        "id": "6y2y01P6ESAo"
      },
      "execution_count": null,
      "outputs": []
    },
    {
      "cell_type": "code",
      "source": [
        "!pip install fastapi uvicorn nest-asyncio -q\n",
        "!npm install -g localtunnel"
      ],
      "metadata": {
        "id": "puxEryI6H-Vq"
      },
      "execution_count": 7,
      "outputs": []
    },
    {
      "cell_type": "code",
      "source": [
        "%%writefile app.py\n",
        "from fastapi import FastAPI\n",
        "import json, os\n",
        "\n",
        "app = FastAPI()\n",
        "status_file = \"/content/status.json\"\n",
        "\n",
        "@app.get(\"/status\")\n",
        "def get_status():\n",
        "    if os.path.exists(status_file):\n",
        "        with open(status_file) as f:\n",
        "            return json.load(f)\n",
        "    return {\"status\": \"not started\"}\n",
        "\n",
        "@app.post(\"/start\")\n",
        "def start_process():\n",
        "    with open(status_file, \"w\") as f:\n",
        "        json.dump({\"status\": \"running\"}, f)\n",
        "    return {\"message\": \"Started!\"}\n",
        "\n",
        "@app.post(\"/stop\")\n",
        "def stop_process():\n",
        "    if os.path.exists(status_file):\n",
        "        os.remove(status_file)\n",
        "    return {\"message\": \"Stopped!\"}\n"
      ],
      "metadata": {
        "colab": {
          "base_uri": "https://localhost:8080/"
        },
        "id": "FX3d5ca9HwNy",
        "outputId": "cafbd23e-0e7f-4afa-fa0a-67e56efbf13d"
      },
      "execution_count": 9,
      "outputs": [
        {
          "output_type": "stream",
          "name": "stdout",
          "text": [
            "Overwriting app.py\n"
          ]
        }
      ]
    },
    {
      "cell_type": "code",
      "source": [
        "!rm -f /content/logs.txt && nohup uvicorn app:app --host 0.0.0.0 --port 8501 &> /content/logs.txt & npx localtunnel --port 8501 &> /content/lt.txt & while ! grep -q 'your url is:' /content/lt.txt; do sleep 1; done; URL=$(grep -m1 'your url is:' /content/lt.txt | awk '{print $4}'); echo \"Tunnel URL: $URL\"; echo \"password:\" ;curl -s https://loca.lt/mytunnelpassword &\n"
      ],
      "metadata": {
        "colab": {
          "base_uri": "https://localhost:8080/"
        },
        "id": "YJ_5dziNItWf",
        "outputId": "f5ed239b-e707-4e17-9f73-ea7ef65cb4dd"
      },
      "execution_count": 45,
      "outputs": [
        {
          "output_type": "stream",
          "name": "stdout",
          "text": [
            "Tunnel URL: https://mighty-items-melt.loca.lt\n",
            "password:\n",
            "34.74.235.232"
          ]
        }
      ]
    },
    {
      "cell_type": "code",
      "source": [],
      "metadata": {
        "id": "cBz3ipu_N0r3"
      },
      "execution_count": null,
      "outputs": []
    }
  ]
}